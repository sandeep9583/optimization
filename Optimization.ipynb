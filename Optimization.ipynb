{
  "nbformat": 4,
  "nbformat_minor": 0,
  "metadata": {
    "colab": {
      "name": "Optimization.ipynb",
      "provenance": [],
      "collapsed_sections": [],
      "authorship_tag": "ABX9TyMBrxlS6Ru+nlTrkEA+j+T6",
      "include_colab_link": true
    },
    "kernelspec": {
      "display_name": "Python 3",
      "name": "python3"
    }
  },
  "cells": [
    {
      "cell_type": "markdown",
      "metadata": {
        "id": "view-in-github",
        "colab_type": "text"
      },
      "source": [
        "<a href=\"https://colab.research.google.com/github/sandeep9583/optimization/blob/main/Optimization.ipynb\" target=\"_parent\"><img src=\"https://colab.research.google.com/assets/colab-badge.svg\" alt=\"Open In Colab\"/></a>"
      ]
    },
    {
      "cell_type": "code",
      "metadata": {
        "id": "45TNY0jdT_nZ"
      },
      "source": [
        "#Exhaustive search method\n",
        "f = lambda x: x**2+54/x\n",
        "a=0\n",
        "b=5\n",
        "n=10\n",
        "print(f\"a={a},b={b},n={n}\")\n",
        "dx = (b-a)/n\n",
        "print(f\"Δx = b-a/n = {b}-{a}/{n} = {dx}\")\n",
        "print(f\"x1 = a, x2 = x1 + Δx,  x3 = x1 + 2Δx\")\n",
        "print(\"write function\")\n",
        "x1=a\n",
        "x2=x1+dx\n",
        "x3=x1+2*dx\n",
        "i=1\n",
        "flag=0\n",
        "while(flag == 0):\n",
        "  print(\"Iteration \",i)\n",
        "  i+=1\n",
        "  try:\n",
        "      f1 = f(x1)\n",
        "  except ZeroDivisionError:\n",
        "      f1 = 99999999999999\n",
        "  try:\n",
        "      f2 = f(x2)\n",
        "  except ZeroDivisionError:\n",
        "      f2 = 99999999999999\n",
        "  try:\n",
        "      f3 = f(x3)\n",
        "  except ZeroDivisionError:\n",
        "      f3 = 99999999999999\n",
        "  print(f\"x1 = {x1}, x2 = {x1} + {dx} = {x2}, x3 = {x1} + 2*{dx} = {x3}\") \n",
        "  print(f\"f(x1) = f({x1}) = {f1} ,f(x2) = f({x2}) = {f2},f(x3) = f({x3}) = {f3}\")           \n",
        "  p =[x1,x2,x3,f1,f2,f3]\n",
        "  p = [round(num,3) for num in p]\n",
        "  print(p)\n",
        "\n",
        "  if (f1>=f2<=f3):\n",
        "    flag=1\n",
        "    print(\"since f(x1)>=f(x2)<=f(x3)\") \n",
        "    print(\"Yes\")\n",
        "    print(f\"Desired Bracket is ({x1},{x3}) \")\n",
        "  else:\n",
        "    print(\"since f(x1)>=f(x2)<=f(x3)\") \n",
        "    print(\"NO\")\n",
        "    print(\"x1 = x2, x2 = x3,x3 = x2 + Δx\")\n",
        "    x1=x2\n",
        "    x2=x3\n",
        "    x3=x2+dx"
      ],
      "execution_count": null,
      "outputs": []
    },
    {
      "cell_type": "code",
      "metadata": {
        "id": "FO6ZsX-Hc9Vx"
      },
      "source": [
        "#Bounding phase method\n",
        "import math\n",
        "\n",
        "f = lambda x: math.sin(2*x)+x**2+21\n",
        "x=1\n",
        "d=0.5\n",
        "k=0\n",
        "xk=x\n",
        "flag=0\n",
        "i=1\n",
        "while flag==0:\n",
        "  print(\"Iteration \",i)\n",
        "  i+=1\n",
        "  xk1=xk+(2**k)*d\n",
        "  print(f\"k = {k}, Δ = {d}\")\n",
        "  print(f\"x({k}) = {xk}, x({k+1}) = x({k}) + 2^({k})*{d}  = {x} + {(2**k)*d} = {xk1}\")\n",
        "  try:\n",
        "    p = f(xk)\n",
        "  except ZeroDivisionError:\n",
        "    p = 99999999999999\n",
        "  try:\n",
        "    q = f(xk1)\n",
        "  except ZeroDivisionError:\n",
        "    q = 99999999999999\n",
        "  print(f\"f(x({k})) = {p}, f(x({k+1})) = {q}\")  \n",
        "  pr =[xk,xk1,p,q]\n",
        "  pr = [round(num,3) for num in pr]\n",
        "  print(pr)\n",
        "  k+=1\n",
        "  if(q<p):\n",
        "    xk=xk1\n",
        "    print(\"Yes\")\n",
        "  else:\n",
        "    flag=1\n",
        "    print(\"NO\")\n",
        "    print(f\"Desired Bracket ({round(xk-(2**(k-2))*d,3)} ,{xk1})\")"
      ],
      "execution_count": null,
      "outputs": []
    },
    {
      "cell_type": "code",
      "metadata": {
        "id": "Yy0x8mJ3jyXs"
      },
      "source": [
        "#Interval Halving method\n",
        "f = lambda x: x**3+648*(x**(-2))\n",
        "a=-1\n",
        "b=4\n",
        "e=10**(-3)\n",
        "l=b-a\n",
        "print(f\"a={a},b={b},l={l},∈={e}\")\n",
        "while l>0.5:\n",
        "  xm=(a+b)/2\n",
        "  x1=a+l/4\n",
        "  x2=b-l/4\n",
        "  print(f\"xm =(a+b)/2 = ({a}+{b})/2 = {xm}, x1 = a+l/4 = {a}+{l}/4 = {x1}, x2 = b-l/4 = {b}-{l}/4 = {x2}\")\n",
        "\n",
        "  try:\n",
        "    f1 = f(x1)\n",
        "  except ZeroDivisionError:\n",
        "    f1 = 99999999999999\n",
        "  try:\n",
        "    f2 = f(x2)\n",
        "  except ZeroDivisionError:\n",
        "    f2 = 99999999999999\n",
        "  try:\n",
        "    fm = f(xm)\n",
        "  except ZeroDivisionError:\n",
        "    fm = 99999999999999 \n",
        "  print(f\"f(x1) = f({x1}) = {f1} ,f(x2) = f({x2}) = {f2},f(xm) = f({xm}) = {fm}\")\n",
        "  p=[x1,x2,xm,f1,f2,fm] \n",
        "  p = [round(num,3) for num in p]\n",
        "  print(p)  \n",
        "   \n",
        "  if(f1>fm and f2>fm ):\n",
        "    a=x1\n",
        "    b=x2   \n",
        "    l=b-a\n",
        "    print(\"Two sides \")\n",
        "    print(f\"f(x1)>f(xm) and f(x2)>f(xm) \\n\\n,a = {a},b = {b} and l = {l}\")\n",
        "  elif(f1>fm and f2<fm):\n",
        "    a=xm\n",
        "    l=b-a\n",
        "    print(\"Cut Two left side\")\n",
        "    print(f\"f(x1)>f(xm) and f(x2)<f(xm)  \\n\\n,a = {a},b = {b} and l = {l}\")\n",
        "  elif(f1<fm and f2>fm):\n",
        "    b=xm\n",
        "    l=b-a\n",
        "    print(\"Cut Two right side \")\n",
        "    print(f\"f(x1)<f(xm) and f(x2)>f(xm) \\n\\n,a = {a},b = {b} and l = {l}\")\n",
        "\n"
      ],
      "execution_count": null,
      "outputs": []
    },
    {
      "cell_type": "code",
      "metadata": {
        "id": "9nz0v-ZHpL82"
      },
      "source": [
        "#Fibonacci search method\n",
        "\n",
        "f = lambda x: x**3-9*x\n",
        "a=1\n",
        "b=4\n",
        "k=2\n",
        "n=3\n",
        "l=b-a\n",
        "print(f\"a={a},b={b},k={k},n={n},L=b-a={l}\")\n",
        "def Fibonacci(n): \n",
        "    if n<0: \n",
        "        print(\"Incorrect input\") \n",
        "    # First Fibonacci number is 0 \n",
        "    elif n==0: \n",
        "        return 1\n",
        "    # Second Fibonacci number is 1 \n",
        "    elif n==1: \n",
        "        return 1\n",
        "    else: \n",
        "        return Fibonacci(n-1)+Fibonacci(n-2) \n",
        "\n",
        "while(k<=n):\n",
        "  lk=(Fibonacci(n-k+1)/Fibonacci(n+1))*l\n",
        "  x1=a+lk\n",
        "  x2=b-lk\n",
        "  print(f\"Lk*=(F(n-k+1)/F(n+1))*L\")\n",
        "  print(f\"L{k}*=(F({n-k+1})/F({n+1}))*{l} = {lk}\")\n",
        "  print(f\"x1=a+L{k}*={a}+{lk}={x1}\")\n",
        "  print(f\"x2=b-L{k}*={b}-{lk}={x2}\")\n",
        "  try:\n",
        "    f1 = f(x1)\n",
        "  except ZeroDivisionError:\n",
        "    f1 = 99999999999999\n",
        "  try:\n",
        "    f2 = f(x2)\n",
        "  except ZeroDivisionError:\n",
        "    f2 = 99999999999999  \n",
        "  print(f\"f(x1) = f({x1}) = {f1} ,f(x2) = f({x2}) = {f2}\")  \n",
        "  p=[x1,x2,f1,f2]  \n",
        "  p = [round(num,3) for num in p]\n",
        "  print(p)  \n",
        "  k+=1\n",
        "  if (f1>f2):\n",
        "    a=x1\n",
        "    print(\"f(x1)> f(x2)\")\n",
        "    print(\"left side\\n\")\n",
        "    print(f\"a={a},b={b},k={k},n={n}\")\n",
        "  elif (f1<f2):\n",
        "    b=x2\n",
        "    print(\"f(x1)< f(x2)\")\n",
        "    print(\"right side\\n\")\n",
        "    print(f\"a={a},b={b},k={k},n={n}\")\n"
      ],
      "execution_count": null,
      "outputs": []
    },
    {
      "cell_type": "code",
      "metadata": {
        "id": "YJ58u3epHABN"
      },
      "source": [
        "#Golden Section search method\n",
        "f = lambda x: x**4-14*(x**3)+60*(x**2)-70*x\n",
        "\n",
        "a=1\n",
        "b=4\n",
        "\n",
        "fw = lambda w: f(w*(b-a)+a)\n",
        "\n",
        "aw=0\n",
        "bw=1\n",
        "lw=bw-aw\n",
        "print(f\"w = x-a/b-a , aw =0,bw =1\")\n",
        "print(f\"w = (x-{a})/({b}-{a}) , w = (x-{a})/({b-a})\")\n",
        "print(f\"x = w*{b-a}+{a}\")\n",
        "print(\"Calculate f(w)\")\n",
        "while(lw>0.1):\n",
        "  lw=bw-aw\n",
        "  w1=aw+0.618*lw\n",
        "  w2=bw-0.618*lw\n",
        "\n",
        "  print(f\"lw = {bw}-{aw} ={lw}\")\n",
        "  print(f\"w1 = aw+0.618*lw ={aw}+0.618*{lw} = {w1}\")\n",
        "  print(f\"w2 = bw-0.618*lw ={bw}-0.618*{lw} = {w2}\")\n",
        "  try:\n",
        "    f1 = fw(w1)\n",
        "  except ZeroDivisionError:\n",
        "    f1 = 99999999999999\n",
        "  try:\n",
        "    f2 = fw(w2)\n",
        "  except ZeroDivisionError:\n",
        "    f2 = 99999999999999  \n",
        "  print(f\"f(w1) = f({w1}) = {f1} ,f(w2) = f({w2}) = {f2}\")   \n",
        "  p=[aw,bw,w1,w2,f1,f2] \n",
        "  p = [round(num,3) for num in p]\n",
        "  print(p)   \n",
        "  if (f1<f2):\n",
        "    aw=w2\n",
        "    print(\"f(x1)< f(x2)\")\n",
        "    print(\"cut left side \\n\")\n",
        "    print(f\"aw = {aw},bw = {bw}\")\n",
        "  elif (f1>f2):\n",
        "    bw=w1\n",
        "    print(\"f(x1)> f(x2)\")\n",
        "    print(\"cut right side \\n\") \n",
        "    print(f\"aw = {aw},bw = {bw}\")\n",
        "  else:\n",
        "    aw=w1\n",
        "    bw=w2\n",
        "    print(\"f(x1)=f(x2)\")\n",
        "    print(\"cut both side \\n\") \n",
        "    print(f\"aw = {aw},bw = {bw}\")\n"
      ],
      "execution_count": null,
      "outputs": []
    },
    {
      "cell_type": "code",
      "metadata": {
        "colab": {
          "base_uri": "https://localhost:8080/"
        },
        "id": "YDN9SflS7Y54",
        "outputId": "0f0eb738-0ce8-4abb-aa4f-c9ed1676b6ce"
      },
      "source": [
        "# Successive Quadratic Estimation Method\r\n",
        "f = lambda x: x**2+54/x\r\n",
        "x1 = 1\r\n",
        "d = 1\r\n",
        "\r\n",
        "x2 =x1+d\r\n",
        "fx1 = f(x1)\r\n",
        "fx2 =f(x2)\r\n",
        "if(fx1>fx2):\r\n",
        "  x3 = x1+2*d\r\n",
        "  fx3 =f(x3)\r\n",
        "\r\n",
        "fmin = min(fx1,fx2,fx3)\r\n",
        "if(fmin==fx1):\r\n",
        "  xmin = x1\r\n",
        "elif(fmin == fx2):\r\n",
        "  xmin = x2\r\n",
        "else:\r\n",
        "  xmin = x3    \r\n",
        "\r\n",
        "a0 = fx1\r\n",
        "a1 = (fx2-fx1)/(x2-x1)\r\n",
        "a2 = (1/(x3-x2))*((fx3-fx1)/(x3-x1)-a1)\r\n",
        "xd = ((x1+x2)/2)-(a1/(2*a2))\r\n",
        "\r\n",
        "print(a0,a1,a2,xd)"
      ],
      "execution_count": null,
      "outputs": [
        {
          "output_type": "stream",
          "text": [
            "55.0 -24.0 10.0 2.7\n"
          ],
          "name": "stdout"
        }
      ]
    },
    {
      "cell_type": "code",
      "metadata": {
        "colab": {
          "base_uri": "https://localhost:8080/"
        },
        "id": "Cm57aIpLHDVr",
        "outputId": "7e2fdb84-6209-4f98-e930-f63cc397da76"
      },
      "source": [
        "#Newton-Raphson Method\r\n",
        "import sympy as sp\r\n",
        "from sympy import *\r\n",
        "x= sp.Symbol('x')\r\n",
        "\r\n",
        "f = lambda x: x**2+54/x\r\n",
        "\r\n",
        "df = sp.diff(f(x),x)\r\n",
        "dff =sp.diff(df,x)\r\n",
        "print(f(x))\r\n",
        "print(df)\r\n",
        "print(dff)\r\n",
        "df = lambdify(x, df)\r\n",
        "dff = lambdify(x,dff)\r\n",
        "\r\n",
        "x=1\r\n",
        "k=1\r\n",
        "xk=x\r\n",
        "\r\n",
        "while(k<8):\r\n",
        "  print(f\"Iteration {k}\")\r\n",
        "  dfxk =round(df(xk),3)\r\n",
        "  dffxk =round(dff(xk),3)\r\n",
        "  xk1 = round(xk-dfxk/dffxk,3)\r\n",
        "  dfxk1 = round( df(xk1),3)\r\n",
        "  print(xk,dfxk,dffxk,xk1,dfxk1)\r\n",
        "  k+=1\r\n",
        "  xk = xk1"
      ],
      "execution_count": null,
      "outputs": [
        {
          "output_type": "stream",
          "text": [
            "x**2 + 54/x\n",
            "2*x - 54/x**2\n",
            "2 + 108/x**3\n",
            "Iteration 1\n",
            "1 -52.0 110.0 1.473 -21.942\n",
            "Iteration 2\n",
            "1.473 -21.942 35.792 2.086 -8.238\n",
            "Iteration 3\n",
            "2.086 -8.238 13.898 2.679 -2.166\n",
            "Iteration 4\n",
            "2.679 -2.166 7.617 2.963 -0.225\n",
            "Iteration 5\n",
            "2.963 -0.225 6.152 3.0 0.0\n",
            "Iteration 6\n",
            "3.0 0.0 6.0 3.0 0.0\n",
            "Iteration 7\n",
            "3.0 0.0 6.0 3.0 0.0\n"
          ],
          "name": "stdout"
        }
      ]
    },
    {
      "cell_type": "code",
      "metadata": {
        "colab": {
          "base_uri": "https://localhost:8080/",
          "height": 534
        },
        "id": "xlr5CrTiz2SL",
        "outputId": "16a7cf10-c0bb-4815-edeb-82fb1230b618"
      },
      "source": [
        "# Bisection Method\r\n",
        "import sympy as sp\r\n",
        "from sympy import *\r\n",
        "x= sp.Symbol('x')\r\n",
        "\r\n",
        "f = lambda x: x**2+54/x\r\n",
        "\r\n",
        "df = sp.diff(f(x),x)\r\n",
        "print(f(x))\r\n",
        "print(df)\r\n",
        "df = lambdify(x, df)\r\n",
        "\r\n",
        "a = 2\r\n",
        "b = 5\r\n",
        "x1 = a\r\n",
        "x2 = b\r\n",
        "i=0\r\n",
        "while(i<3):\r\n",
        "  i+=1\r\n",
        "  print(f\"Iteration {i}\")\r\n",
        "\r\n",
        "  z = round((x1+x2)/2,3)\r\n",
        "  dfz =round(df(z),3)\r\n",
        "  print(x1,x2)\r\n",
        "  print(z,dfz)\r\n",
        "  if(dfz>0):\r\n",
        "    print(f\"eliminate the right part (the region ({z},{x2}))\")\r\n",
        "    x2 = z\r\n",
        "  elif(dfz<0):\r\n",
        "    print(f\"eliminate the left part (the region ({x1},{z}))\")\r\n",
        "    x1 = z  \r\n",
        "\r\n",
        "print(x1,x2)\r\n",
        "%matplotlib inline\r\n",
        "import matplotlib.pyplot as plt\r\n",
        "import numpy as np\r\n",
        "y= np.linspace(a,b)\r\n",
        "plt.plot(y,f(y))\r\n",
        "#plt.plot(y,df(y))    "
      ],
      "execution_count": null,
      "outputs": [
        {
          "output_type": "stream",
          "text": [
            "x**2 + 54/x\n",
            "2*x - 54/x**2\n",
            "Iteration 1\n",
            "2 5\n",
            "3.5 2.592\n",
            "eliminate the right part (the region (3.5,5))\n",
            "Iteration 2\n",
            "2 3.5\n",
            "2.75 -1.64\n",
            "eliminate the left part (the region (2,2.75))\n",
            "Iteration 3\n",
            "2.75 3.5\n",
            "3.125 0.72\n",
            "eliminate the right part (the region (3.125,3.5))\n",
            "2.75 3.125\n"
          ],
          "name": "stdout"
        },
        {
          "output_type": "execute_result",
          "data": {
            "text/plain": [
              "[<matplotlib.lines.Line2D at 0x7fea0afd5e50>]"
            ]
          },
          "metadata": {
            "tags": []
          },
          "execution_count": 67
        },
        {
          "output_type": "display_data",
          "data": {
            "image/png": "[encoded data removed]",
            "text/plain": [
              "<Figure size 432x288 with 1 Axes>"
            ]
          },
          "metadata": {
            "tags": [],
            "needs_background": "light"
          }
        }
      ]
    },
    {
      "cell_type": "code",
      "metadata": {
        "colab": {
          "base_uri": "https://localhost:8080/",
          "height": 651
        },
        "id": "S_rsctdicuDd",
        "outputId": "e7ff680f-c0fd-4aeb-a2de-283fecfb60fe"
      },
      "source": [
        "# Secant Method\r\n",
        "import sympy as sp\r\n",
        "from sympy import *\r\n",
        "x= sp.Symbol('x')\r\n",
        "\r\n",
        "f = lambda x: x**2+54/x\r\n",
        "\r\n",
        "df = sp.diff(f(x),x)\r\n",
        "print(f(x))\r\n",
        "print(df)\r\n",
        "df = lambdify(x, df)\r\n",
        "\r\n",
        "a = 2\r\n",
        "b = 5\r\n",
        "x1 = a\r\n",
        "x2 = b\r\n",
        "i=0\r\n",
        "while(i<5):\r\n",
        "  i+=1\r\n",
        "  print(f\"Iteration {i}\")\r\n",
        "  dfa = round(df(x1),4)\r\n",
        "  dfb = round(df(x2),4)\r\n",
        "  z = round(x2 - dfb/((dfb-dfa)/(x2-x1)),4)\r\n",
        "  dfz =round(df(z),4)\r\n",
        "  print(x1,x2)\r\n",
        "  print(dfa,dfb,z,dfz)\r\n",
        "  if(dfz>0):\r\n",
        "    print(f\"eliminate the right part (the region ({z},{x2}))\")\r\n",
        "    x2 = z\r\n",
        "\r\n",
        "\r\n",
        "%matplotlib inline\r\n",
        "import matplotlib.pyplot as plt\r\n",
        "import numpy as np\r\n",
        "y= np.linspace(a,b)\r\n",
        "plt.plot(y,f(y))\r\n",
        "#plt.plot(y,df(y))    "
      ],
      "execution_count": null,
      "outputs": [
        {
          "output_type": "stream",
          "text": [
            "x**2 + 54/x\n",
            "2*x - 54/x**2\n",
            "Iteration 1\n",
            "2 5\n",
            "-9.5 7.84 3.6436 3.2197\n",
            "eliminate the right part (the region (3.6436,5))\n",
            "Iteration 2\n",
            "2 3.6436\n",
            "-9.5 3.2197 3.2276 1.2716\n",
            "eliminate the right part (the region (3.2276,3.6436))\n",
            "Iteration 3\n",
            "2 3.2276\n",
            "-9.5 1.2716 3.0827 0.483\n",
            "eliminate the right part (the region (3.0827,3.2276))\n",
            "Iteration 4\n",
            "2 3.0827\n",
            "-9.5 0.483 3.0303 0.18\n",
            "eliminate the right part (the region (3.0303,3.0827))\n",
            "Iteration 5\n",
            "2 3.0303\n",
            "-9.5 0.18 3.0111 0.0664\n",
            "eliminate the right part (the region (3.0111,3.0303))\n"
          ],
          "name": "stdout"
        },
        {
          "output_type": "execute_result",
          "data": {
            "text/plain": [
              "[<matplotlib.lines.Line2D at 0x7fea0af69090>]"
            ]
          },
          "metadata": {
            "tags": []
          },
          "execution_count": 68
        },
        {
          "output_type": "display_data",
          "data": {
            "image/png": "[encoded data removed]",
            "text/plain": [
              "<Figure size 432x288 with 1 Axes>"
            ]
          },
          "metadata": {
            "tags": [],
            "needs_background": "light"
          }
        }
      ]
    },
    {
      "cell_type": "code",
      "metadata": {
        "id": "MIoeVGEHtLVY",
        "colab": {
          "base_uri": "https://localhost:8080/"
        },
        "outputId": "c00feba5-a365-4fd5-b6e1-423bab7c0460"
      },
      "source": [
        "#cubic search method\r\n",
        "\r\n",
        "import sympy as sp\r\n",
        "from sympy import *\r\n",
        "x= sp.Symbol('x')\r\n",
        "\r\n",
        "f = lambda x: 2*x**2+16/x\r\n",
        "\r\n",
        "df = sp.diff(f(x),x)\r\n",
        "print(f(x))\r\n",
        "print(df)\r\n",
        "df = lambdify(x, df)\r\n",
        "\r\n",
        "d=0.5\r\n",
        "x1=1\r\n",
        "\r\n",
        "k=0\r\n",
        "i=0\r\n",
        "while(i<5):\r\n",
        "  print(f\"k = {k}\")\r\n",
        "  i+=1\r\n",
        "  print(f\"x{k} = {x1}\")\r\n",
        "  df1=df(x1)\r\n",
        "  print(f\"df({k}) = {df1}\")\r\n",
        "  if(df(x1)>0):\r\n",
        "    print(\"\\n\")\r\n",
        "  elif(df(x1)<0):\r\n",
        "    d=0.5\r\n",
        "    x2=x1+(2**k)*d\r\n",
        "    x1=x2\r\n",
        "    k+=1\r\n",
        "    print(f\"x{k} = {x2}\")\r\n",
        "    print(\"\\n\")\r\n",
        "\r\n",
        "\r\n",
        "\r\n"
      ],
      "execution_count": 23,
      "outputs": [
        {
          "output_type": "stream",
          "text": [
            "2*x**2 + 16/x\n",
            "4*x - 16/x**2\n",
            "k = 0\n",
            "x0 = 1\n",
            "df(0) = -12.0\n",
            "x1 = 1.5\n",
            "\n",
            "\n",
            "k = 1\n",
            "x1 = 1.5\n",
            "df(1) = -1.1111111111111107\n",
            "x2 = 2.5\n",
            "\n",
            "\n",
            "k = 2\n",
            "x2 = 2.5\n",
            "df(2) = 7.4399999999999995\n",
            "\n",
            "\n",
            "k = 2\n",
            "x2 = 2.5\n",
            "df(2) = 7.4399999999999995\n",
            "\n",
            "\n",
            "k = 2\n",
            "x2 = 2.5\n",
            "df(2) = 7.4399999999999995\n",
            "\n",
            "\n"
          ],
          "name": "stdout"
        }
      ]
    }
  ]
}